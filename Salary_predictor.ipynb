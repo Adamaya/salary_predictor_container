{
 "cells": [
  {
   "cell_type": "markdown",
   "id": "developmental-curtis",
   "metadata": {},
   "source": [
    "# This file includes the main code to execute the salary prediction"
   ]
  },
  {
   "cell_type": "code",
   "execution_count": 1,
   "id": "large-madagascar",
   "metadata": {},
   "outputs": [],
   "source": [
    "import joblib"
   ]
  },
  {
   "cell_type": "code",
   "execution_count": 2,
   "id": "reliable-amount",
   "metadata": {},
   "outputs": [],
   "source": [
    "model = joblib.load(\"myModel.pkl\")"
   ]
  },
  {
   "cell_type": "code",
   "execution_count": 4,
   "id": "aquatic-colombia",
   "metadata": {},
   "outputs": [
    {
     "data": {
      "text/plain": [
       "array([110841.86109176])"
      ]
     },
     "execution_count": 4,
     "metadata": {},
     "output_type": "execute_result"
    }
   ],
   "source": [
    "model.predict([[9]])"
   ]
  },
  {
   "cell_type": "code",
   "execution_count": null,
   "id": "rising-halloween",
   "metadata": {},
   "outputs": [],
   "source": []
  },
  {
   "cell_type": "code",
   "execution_count": null,
   "id": "infectious-webster",
   "metadata": {},
   "outputs": [],
   "source": []
  }
 ],
 "metadata": {
  "kernelspec": {
   "display_name": "Python 3",
   "language": "python",
   "name": "python3"
  },
  "language_info": {
   "codemirror_mode": {
    "name": "ipython",
    "version": 3
   },
   "file_extension": ".py",
   "mimetype": "text/x-python",
   "name": "python",
   "nbconvert_exporter": "python",
   "pygments_lexer": "ipython3",
   "version": "3.7.9"
  }
 },
 "nbformat": 4,
 "nbformat_minor": 5
}
